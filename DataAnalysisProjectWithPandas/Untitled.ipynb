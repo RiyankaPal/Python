{
 "cells": [
  {
   "cell_type": "code",
   "execution_count": null,
   "id": "26a1fcf5-a631-4b13-9aec-e2d4d3c6b64c",
   "metadata": {},
   "outputs": [],
   "source": [
    "import pandas as pd\n",
    "import numpy as np\n",
    "import matplotlib.pyplot as plt\n",
    "from IPython.display import HTML\n",
    "from wordcloud import WordCloud\n",
    "pd.options.display.max_columns = 30\n",
    "pd.options.display.float_format = '{:.2}'.format\n",
    "df = pd.read_csv('movies_complete.csv', parse_dates=['release_date'])"
   ]
  }
 ],
 "metadata": {
  "kernelspec": {
   "display_name": "Python 3 (ipykernel)",
   "language": "python",
   "name": "python3"
  },
  "language_info": {
   "codemirror_mode": {
    "name": "ipython",
    "version": 3
   },
   "file_extension": ".py",
   "mimetype": "text/x-python",
   "name": "python",
   "nbconvert_exporter": "python",
   "pygments_lexer": "ipython3",
   "version": "3.12.4"
  }
 },
 "nbformat": 4,
 "nbformat_minor": 5
}
