{
 "cells": [
  {
   "cell_type": "code",
   "execution_count": null,
   "id": "4559e189-db31-4c58-ab96-5666e8f026d4",
   "metadata": {},
   "outputs": [],
   "source": [
    "import pandas as pd\n",
    "import numpy as np\n",
    "import matplotlib.pyplot as plt\n",
    "from IPython.display import HTML\n",
    "pd.options.display.max_columns = 30\n",
    "pd.options.display.float_format = '{:.2}'.format"
   ]
  },
  {
   "cell_type": "code",
   "execution_count": null,
   "id": "daab12c9-715f-4ff3-a920-74c850a2f8f0",
   "metadata": {},
   "outputs": [],
   "source": [
    "df = pd.read_csv('movies_complete.csv', parse_dates=['release_date'])"
   ]
  },
  {
   "cell_type": "markdown",
   "id": "c0170a0e-7408-4ec9-8267-73898d83680e",
   "metadata": {},
   "source": [
    "The parse_dates parameter in the pandas.read_csv() function allows specifying which columns should be parsed as dates. By default, when reading a CSV file, Pandas treats all columns as strings or numeric values. However, columns representing dates or timestamps can be parsed into datetime objects using parse_dates, making it easier to work with time-related data.\n",
    "\n",
    "It accepts different values:\n",
    "\n",
    "True: Pandas will attempt to parse all columns as dates. If a column cannot be parsed as a date, it will retain its original data type (such as a string or object)."
   ]
  }
 ],
 "metadata": {
  "kernelspec": {
   "display_name": "Python 3 (ipykernel)",
   "language": "python",
   "name": "python3"
  },
  "language_info": {
   "codemirror_mode": {
    "name": "ipython",
    "version": 3
   },
   "file_extension": ".py",
   "mimetype": "text/x-python",
   "name": "python",
   "nbconvert_exporter": "python",
   "pygments_lexer": "ipython3",
   "version": "3.12.4"
  }
 },
 "nbformat": 4,
 "nbformat_minor": 5
}
