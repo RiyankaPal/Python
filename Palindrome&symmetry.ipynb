{
  "nbformat": 4,
  "nbformat_minor": 0,
  "metadata": {
    "colab": {
      "provenance": [],
      "authorship_tag": "ABX9TyP53gYohdRn8H311t6z0cjk",
      "include_colab_link": true
    },
    "kernelspec": {
      "name": "python3",
      "display_name": "Python 3"
    },
    "language_info": {
      "name": "python"
    }
  },
  "cells": [
    {
      "cell_type": "markdown",
      "metadata": {
        "id": "view-in-github",
        "colab_type": "text"
      },
      "source": [
        "<a href=\"https://colab.research.google.com/github/RiyankaPal/Python/blob/main/Palindrome%26symmetry.ipynb\" target=\"_parent\"><img src=\"https://colab.research.google.com/assets/colab-badge.svg\" alt=\"Open In Colab\"/></a>"
      ]
    },
    {
      "cell_type": "code",
      "execution_count": null,
      "metadata": {
        "id": "KPgEEMtfJJJz"
      },
      "outputs": [],
      "source": [
        "\n",
        "def Symmetry(word):\n",
        "    n=len(word)\n",
        "    mid=n//2\n",
        "    flag=0\n",
        "    if n%2:\n",
        "      mid=n//2+1\n",
        "    else:\n",
        "      mid=n//2\n",
        "    start1=0\n",
        "    start2=mid\n",
        "    while start1<mid and start2<n:\n",
        "      if word[start1]==word[start2]:\n",
        "        start1+=1\n",
        "        start2+=1\n",
        "      else:\n",
        "        flag=1\n",
        "        break\n",
        "    if flag==0:\n",
        "      print(\"symmetry\")\n",
        "    else:\n",
        "      print(\"not symmetry\")\n",
        "\n",
        "\n",
        "\n",
        "\n",
        "def Palindrome(word):\n",
        "  mid=(len(word)-1)//2\n",
        "  start=0\n",
        "  last=len(word)-1\n",
        "  flag=0\n",
        "  while start <mid:\n",
        "    if word[start]==word[last]:\n",
        "        start+=1\n",
        "        last-=1\n",
        "\n",
        "    else:\n",
        "        flag=1\n",
        "        break\n",
        "  if flag==0:\n",
        "    print(\"palindrome\")\n",
        "  else:\n",
        "    Symmetry(word)\n",
        "\n",
        "word=input(\"enter a word:\")\n",
        "Palindrome(word)\n",
        "\n",
        "\n"
      ]
    }
  ]
}