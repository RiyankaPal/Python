{
  "nbformat": 4,
  "nbformat_minor": 0,
  "metadata": {
    "colab": {
      "provenance": [],
      "authorship_tag": "ABX9TyM+mmooKtVDv2xO7yiARIL6",
      "include_colab_link": true
    },
    "kernelspec": {
      "name": "python3",
      "display_name": "Python 3"
    },
    "language_info": {
      "name": "python"
    }
  },
  "cells": [
    {
      "cell_type": "markdown",
      "metadata": {
        "id": "view-in-github",
        "colab_type": "text"
      },
      "source": [
        "<a href=\"https://colab.research.google.com/github/RiyankaPal/Python/blob/main/StringReverse.ipynb\" target=\"_parent\"><img src=\"https://colab.research.google.com/assets/colab-badge.svg\" alt=\"Open In Colab\"/></a>"
      ]
    },
    {
      "cell_type": "code",
      "execution_count": 10,
      "metadata": {
        "colab": {
          "base_uri": "https://localhost:8080/"
        },
        "id": "Idm1eLkdef_7",
        "outputId": "11366fdd-f092-49a6-a175-eef5bb528aef"
      },
      "outputs": [
        {
          "output_type": "stream",
          "name": "stdout",
          "text": [
            "enter a wordToday is sunday\n",
            "sunday is Today\n"
          ]
        }
      ],
      "source": [
        "s=input(\"enter a word\")\n",
        "\n",
        "a=s.split()[::-1]\n",
        "L=[]\n",
        "for i in a:\n",
        "  L.append(i)\n",
        "print(\" \".join(L))"
      ]
    }
  ]
}